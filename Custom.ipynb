{
 "cells": [
  {
   "cell_type": "code",
   "execution_count": null,
   "metadata": {},
   "outputs": [],
   "source": [
    "import numpy as np\n",
    "# Define initial conditions\n",
    "l = 2 # length of wire, meters\n",
    "mass = 1 # total mass of wire\n",
    "tensile_str = 1 # Tensile Strength of wire\n",
    "dia = 1 # diameter of wire\n",
    "cs_area = np.pi * dia**2 / 4 # cross sectional area of wire\n",
    "young_mod = 1 # elastic modulus of wire\n",
    "\n",
    "\n",
    "v_p = 1 # velocity of inciting particle\n",
    "\n",
    "mu = mass / l # # linear mass density\n",
    "tension = tensile_str * cs_area # Tension on wire\n",
    "\n",
    "v_press = np.sqrt(young_mod / mu) # wavespeed for longitudinal wave\n",
    "v_shear = np.sqrt(tension / mu) # wavespeed for transverse waves\n",
    "# Impact conditions\n",
    "G = 1 # gravitational constant\n",
    "M = 1 # mass of inciting particle\n",
    "z0 = 1 # position of particle track and wire 'intersection', meters\n",
    "b = .05 # shortest distance between wire and particle track, meters\n",
    "theta = 0 # Angle between particle track and z (wire) axes, radians\n",
    "phi = 0 # Angle between particle track and x axes, radians\n",
    "\n"
   ]
  }
 ],
 "metadata": {
  "kernelspec": {
   "display_name": ".venv",
   "language": "python",
   "name": "python3"
  },
  "language_info": {
   "name": "python",
   "version": "3.11.5"
  },
  "orig_nbformat": 4
 },
 "nbformat": 4,
 "nbformat_minor": 2
}
