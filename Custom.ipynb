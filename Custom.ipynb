{
 "cells": [
  {
   "cell_type": "code",
   "execution_count": 11,
   "metadata": {},
   "outputs": [],
   "source": [
    "# Imports\n",
    "import numpy as np\n",
    "from scipy.integrate import solve_ivp\n",
    "from scipy import sparse\n",
    "import matplotlib.pyplot as plt\n",
    "from matplotlib import animation\n",
    "import easygui as eg"
   ]
  },
  {
   "cell_type": "code",
   "execution_count": 12,
   "metadata": {},
   "outputs": [],
   "source": [
    "# Define initial conditions of detector\n",
    "\"\"\" \n",
    "Defaults source:\n",
    "https://www.tribology-abc.com/calculators/properties_of_common_spring_materials.pdf <-- ASTM A228\n",
    "https://optimumspring.com/technical_resources/materials/carbon_steels/music_wire_228_spring_wire.aspx <-- For mass density \n",
    "\"\"\"\n",
    "params = eg.multenterbox(\"Enter wire params\", \n",
    "                         fields=[\"Length [m]\", \"Mass Density [kg / m^3]\", \"Tensile strength [MPa]\", \"Youngs Modulus [kPa]\", \"Wire Diameter [mm]\"],\n",
    "                         values=[2, 7861.0929, 2751, 207, 0.004])\n",
    "l = float(params[0]) # length of wire, meters\n",
    "rho = float(params[1]) # mass density, kg/m^3\n",
    "tensile_str = float(params[2]) * 10**6 # Tensile Strength of wire, Pa\n",
    "young_mod = float(params[3]) * 10**3 # elastic modulus of wire, Pa\n",
    "dia = float(params[4]) * 10**-3 # diameter of wire, meters\n",
    "cs_area = np.pi * dia**2 / 4 # cross sectional area of wire, m^2\n",
    "\n",
    "mu = rho * cs_area # linear mass density, kg/m\n",
    "tension = 0.1 * tensile_str * cs_area # Tension on wire, N\n",
    "v_press = np.sqrt(young_mod / rho) # wavespeed for longitudinal wave, m/s\n",
    "v_shear = np.sqrt(tension / mu) # wavespeed for transverse waves, m/s\n",
    "\n",
    "\n",
    "# Impact conditions of particle and track\n",
    "# TODO: Make 0 custom option\n",
    "relativistic = (3e8, 1.782e-24) # c [m/s], 1 TeV/c^2 [kg]\n",
    "thermal_neut = (1919.62, 1.674e-27) # [m/s], [kg] --> T = 298 K, mv^2 = (3/2) k_b T\n",
    "gal_orbit = (220e3, 1.782e-24) # [m/s], 1 TeV/c^2 [kg]\n",
    "parts = [None, relativistic, thermal_neut, gal_orbit]\n",
    "ret = eg.integerbox(\"Which particle?\\n0: Custom\\n1: Relativistic DM\\n2: Thermal Neutron\\n3: Galactic Orbit DM\",\n",
    "                    default=1, lowerbound=0, upperbound=3)\n",
    "if ret == 0:\n",
    "    custom = eg.multenterbox(\"Enter custom particle params\",\n",
    "                             fields=[\"Mass, [kg]\", \"Speed, [m/s]\"],\n",
    "                             values=[1,1])\n",
    "    parts[0] = (float(custom[1]), float(custom[0]))\n",
    "G = 6.67430e-11 # gravitational constant\n",
    "M = parts[ret][1] # mass of inciting particle, meters/second\n",
    "v_p = parts[ret][0] # velocity of inciting particle, meters / second\n",
    "\n",
    "\n",
    "params = eg.multenterbox(\"Enter impact params\", \n",
    "                         fields=[\"z0 (track/wire 'intersection') [m]\", \"b (dist. of closest approach) [m]\", \"theta (angle between track and wire) [rads]\", \"phi (rot. about wire) [rads]\"],\n",
    "                         values=[l/2, 0.05, np.pi/2, np.pi /2])\n",
    "# TODO: Integrate phi and rotations\n",
    "dz = .001 # mm step size for wire?\n",
    "z0 = float(params[0]) # position of particle track and wire 'intersection', meters\n",
    "b = float(params[1]) # shortest distance between wire and particle track, meters\n",
    "theta = float(params[2]) # Angle between particle track and z (wire) axes, radians\n",
    "phi = float(params[3]) # Angle between particle track and x axes, radians\n",
    "zwire = np.arange(0 - z0, l - z0, dz) # define wire along z axes s.t. z0 is at z_string == 0\n",
    "v_0 = 2 * G * M / (v_p * (b**2 + (zwire * np.sin(theta))**2)) # shared component of initial velocities\n",
    "\n",
    "# Set up time erray for ivp solution\n",
    "dt = .000001 # mus step size for time?\n",
    "t0 = 0.0\n",
    "tf = 0.001    # 1 ms total time\n",
    "t_eval = np.arange(t0, tf, dt)\n"
   ]
  },
  {
   "cell_type": "code",
   "execution_count": 13,
   "metadata": {},
   "outputs": [],
   "source": [
    "# Define needed functions\n",
    "arr_dim = zwire.size\n",
    "laplacian = sparse.diags([1, -2, 1], [-1, 0, 1], shape= (arr_dim, arr_dim)) / dz**2\n",
    "disp_0 = np.zeros(arr_dim) # initial displacement as function of z\n",
    "\n",
    "def couple_fun(t, u):\n",
    "    \"\"\"\" \n",
    "    Function that returns first derivative in time for a coupled function of position and velocity \n",
    "    First arr_dim points return velocity: second arr_dim points of u\n",
    "    Second arr_dim points return accelleration: v_p^2 * Laplacian.[first arr_dim points of u]\n",
    "    \"\"\"\n",
    "    u[0] = 0 # fixed ends\n",
    "    u[arr_dim - 1] = 0 #fixed ends\n",
    "    du = np.zeros(2 * arr_dim) \n",
    "    # velocity is second half of coupled array (u)\n",
    "    du[:arr_dim] = u[arr_dim:] \n",
    "    du[0] = 0 # fixed ends\n",
    "    du[arr_dim - 1] = 0 # fixed ends\n",
    "    # acceleration is wave eq on first half of coupled array (u)\n",
    "    du[arr_dim:] = v_p**2 * laplacian.dot(u[:arr_dim]) \n",
    "    du[arr_dim] = 0 # fixed ends\n",
    "    du[-1] = 0 # fixed end\n",
    "    return du\n",
    "\n",
    "def accell(t, sol):\n",
    "    \"\"\"\n",
    "    Take solve_ivp coupled solution and a given time and return acceleration using \n",
    "    finite difference favouring symmetric difference (first and last frame use\n",
    "    increasing and decreasing difference respectively)\n",
    "    \"\"\"\n",
    "    d = 2\n",
    "    if t == 0:\n",
    "        less_dt = sol.y[arr_dim:, t]\n",
    "        d = 1\n",
    "    else:\n",
    "        less_dt = sol.y[arr_dim:, t - 1]\n",
    "    if t == len(sol.t) - 1:\n",
    "        more_dt = sol.y[arr_dim:, t]\n",
    "        d = 1\n",
    "    else:\n",
    "        more_dt = sol.y[arr_dim:, t + 1]  \n",
    "    return (more_dt - less_dt) / (d * dt)\n",
    "\n",
    "# def rotation matrix about z axes?"
   ]
  },
  {
   "cell_type": "code",
   "execution_count": 14,
   "metadata": {},
   "outputs": [
    {
     "name": "stderr",
     "output_type": "stream",
     "text": [
      "C:\\Users\\Thomas\\AppData\\Local\\Temp\\ipykernel_12820\\1833081610.py:5: UserWarning: Matplotlib is currently using module://matplotlib_inline.backend_inline, which is a non-GUI backend, so cannot show the figure.\n",
      "  fig.show()\n"
     ]
    },
    {
     "data": {
      "image/png": "[encoded data removed]",
      "text/plain": [
       "<Figure size 640x480 with 1 Axes>"
      ]
     },
     "metadata": {},
     "output_type": "display_data"
    }
   ],
   "source": [
    "# z axes wave \n",
    "v_z = - v_0 * zwire * np.sin(theta)**2\n",
    "# fig, ax = plt.subplots()\n",
    "# ax.plot(zwire, v_z)\n",
    "# fig.show()\n",
    "# Initialize coupled array\n",
    "u_0 = np.zeros(2*arr_dim)\n",
    "u_0[:arr_dim] = disp_0\n",
    "u_0[arr_dim:] = v_z\n",
    "\n",
    "sol = solve_ivp(couple_fun, t_span= [t0, tf], y0= u_0, t_eval= t_eval, method=\"RK23\")"
   ]
  },
  {
   "cell_type": "code",
   "execution_count": 15,
   "metadata": {},
   "outputs": [
    {
     "ename": "KeyboardInterrupt",
     "evalue": "",
     "output_type": "error",
     "traceback": [
      "\u001b[1;31m---------------------------------------------------------------------------\u001b[0m",
      "\u001b[1;31mKeyboardInterrupt\u001b[0m                         Traceback (most recent call last)",
      "\u001b[1;32mc:\\Users\\Thomas\\Documents\\Fall 2023\\PHYS 499\\Code\\Custom.ipynb Cell 5\u001b[0m line \u001b[0;36m1\n\u001b[1;32m----> <a href='vscode-notebook-cell:/c%3A/Users/Thomas/Documents/Fall%202023/PHYS%20499/Code/Custom.ipynb#X10sZmlsZQ%3D%3D?line=0'>1</a>\u001b[0m sol \u001b[39m=\u001b[39m solve_ivp(couple_fun, t_span\u001b[39m=\u001b[39;49m [t0, tf], y0\u001b[39m=\u001b[39;49m u_0, t_eval\u001b[39m=\u001b[39;49m t_eval, method\u001b[39m=\u001b[39;49m\u001b[39m\"\u001b[39;49m\u001b[39mRK23\u001b[39;49m\u001b[39m\"\u001b[39;49m)\n",
      "File \u001b[1;32mc:\\Users\\Thomas\\Documents\\Fall 2023\\PHYS 499\\Code\\.venv\\Lib\\site-packages\\scipy\\integrate\\_ivp\\ivp.py:602\u001b[0m, in \u001b[0;36msolve_ivp\u001b[1;34m(fun, t_span, y0, method, t_eval, dense_output, events, vectorized, args, **options)\u001b[0m\n\u001b[0;32m    600\u001b[0m status \u001b[39m=\u001b[39m \u001b[39mNone\u001b[39;00m\n\u001b[0;32m    601\u001b[0m \u001b[39mwhile\u001b[39;00m status \u001b[39mis\u001b[39;00m \u001b[39mNone\u001b[39;00m:\n\u001b[1;32m--> 602\u001b[0m     message \u001b[39m=\u001b[39m solver\u001b[39m.\u001b[39;49mstep()\n\u001b[0;32m    604\u001b[0m     \u001b[39mif\u001b[39;00m solver\u001b[39m.\u001b[39mstatus \u001b[39m==\u001b[39m \u001b[39m'\u001b[39m\u001b[39mfinished\u001b[39m\u001b[39m'\u001b[39m:\n\u001b[0;32m    605\u001b[0m         status \u001b[39m=\u001b[39m \u001b[39m0\u001b[39m\n",
      "File \u001b[1;32mc:\\Users\\Thomas\\Documents\\Fall 2023\\PHYS 499\\Code\\.venv\\Lib\\site-packages\\scipy\\integrate\\_ivp\\base.py:197\u001b[0m, in \u001b[0;36mOdeSolver.step\u001b[1;34m(self)\u001b[0m\n\u001b[0;32m    195\u001b[0m \u001b[39melse\u001b[39;00m:\n\u001b[0;32m    196\u001b[0m     t \u001b[39m=\u001b[39m \u001b[39mself\u001b[39m\u001b[39m.\u001b[39mt\n\u001b[1;32m--> 197\u001b[0m     success, message \u001b[39m=\u001b[39m \u001b[39mself\u001b[39;49m\u001b[39m.\u001b[39;49m_step_impl()\n\u001b[0;32m    199\u001b[0m     \u001b[39mif\u001b[39;00m \u001b[39mnot\u001b[39;00m success:\n\u001b[0;32m    200\u001b[0m         \u001b[39mself\u001b[39m\u001b[39m.\u001b[39mstatus \u001b[39m=\u001b[39m \u001b[39m'\u001b[39m\u001b[39mfailed\u001b[39m\u001b[39m'\u001b[39m\n",
      "File \u001b[1;32mc:\\Users\\Thomas\\Documents\\Fall 2023\\PHYS 499\\Code\\.venv\\Lib\\site-packages\\scipy\\integrate\\_ivp\\rk.py:144\u001b[0m, in \u001b[0;36mRungeKutta._step_impl\u001b[1;34m(self)\u001b[0m\n\u001b[0;32m    141\u001b[0m h \u001b[39m=\u001b[39m t_new \u001b[39m-\u001b[39m t\n\u001b[0;32m    142\u001b[0m h_abs \u001b[39m=\u001b[39m np\u001b[39m.\u001b[39mabs(h)\n\u001b[1;32m--> 144\u001b[0m y_new, f_new \u001b[39m=\u001b[39m rk_step(\u001b[39mself\u001b[39;49m\u001b[39m.\u001b[39;49mfun, t, y, \u001b[39mself\u001b[39;49m\u001b[39m.\u001b[39;49mf, h, \u001b[39mself\u001b[39;49m\u001b[39m.\u001b[39;49mA,\n\u001b[0;32m    145\u001b[0m                        \u001b[39mself\u001b[39;49m\u001b[39m.\u001b[39;49mB, \u001b[39mself\u001b[39;49m\u001b[39m.\u001b[39;49mC, \u001b[39mself\u001b[39;49m\u001b[39m.\u001b[39;49mK)\n\u001b[0;32m    146\u001b[0m scale \u001b[39m=\u001b[39m atol \u001b[39m+\u001b[39m np\u001b[39m.\u001b[39mmaximum(np\u001b[39m.\u001b[39mabs(y), np\u001b[39m.\u001b[39mabs(y_new)) \u001b[39m*\u001b[39m rtol\n\u001b[0;32m    147\u001b[0m error_norm \u001b[39m=\u001b[39m \u001b[39mself\u001b[39m\u001b[39m.\u001b[39m_estimate_error_norm(\u001b[39mself\u001b[39m\u001b[39m.\u001b[39mK, h, scale)\n",
      "File \u001b[1;32mc:\\Users\\Thomas\\Documents\\Fall 2023\\PHYS 499\\Code\\.venv\\Lib\\site-packages\\scipy\\integrate\\_ivp\\rk.py:66\u001b[0m, in \u001b[0;36mrk_step\u001b[1;34m(fun, t, y, f, h, A, B, C, K)\u001b[0m\n\u001b[0;32m     63\u001b[0m     dy \u001b[39m=\u001b[39m np\u001b[39m.\u001b[39mdot(K[:s]\u001b[39m.\u001b[39mT, a[:s]) \u001b[39m*\u001b[39m h\n\u001b[0;32m     64\u001b[0m     K[s] \u001b[39m=\u001b[39m fun(t \u001b[39m+\u001b[39m c \u001b[39m*\u001b[39m h, y \u001b[39m+\u001b[39m dy)\n\u001b[1;32m---> 66\u001b[0m y_new \u001b[39m=\u001b[39m y \u001b[39m+\u001b[39m h \u001b[39m*\u001b[39m np\u001b[39m.\u001b[39;49mdot(K[:\u001b[39m-\u001b[39;49m\u001b[39m1\u001b[39;49m]\u001b[39m.\u001b[39;49mT, B)\n\u001b[0;32m     67\u001b[0m f_new \u001b[39m=\u001b[39m fun(t \u001b[39m+\u001b[39m h, y_new)\n\u001b[0;32m     69\u001b[0m K[\u001b[39m-\u001b[39m\u001b[39m1\u001b[39m] \u001b[39m=\u001b[39m f_new\n",
      "\u001b[1;31mKeyboardInterrupt\u001b[0m: "
     ]
    }
   ],
   "source": []
  },
  {
   "cell_type": "code",
   "execution_count": null,
   "metadata": {},
   "outputs": [],
   "source": [
    "# Animation\n",
    "fig1, (ax1, ax2, ax3) = plt.subplots(3,1)\n",
    "ax1.set_xlabel('String position [m]')\n",
    "title = ax1.set_title(' ')\n",
    "line1, = ax1.plot([], [], label='Displacement')\n",
    "line2, = ax2.plot([], [], label='Velocity')\n",
    "line3, = ax3.plot([], [], label='Acceleration')\n",
    "# TODO: Need to fix bounds\n",
    "ax1.set_ylim(-G*M/v_p**2, G*M/v_p**2)\n",
    "ax1.set_xlim(0 - z0, l - z0)\n",
    "# ax2.set_ylim(-G*M/(b * v_p**2), G*M/(b * v_p**2))\n",
    "ax2.set_ylim(-v_z.max(), v_z.max())\n",
    "ax2.set_xlim(0 - z0, l - z0)\n",
    "ax3.set_ylim(-G*M/b**2, G*M/b**2)\n",
    "ax3.set_xlim(0 - z0, l - z0)\n",
    "ax1.set_title('Displacement')\n",
    "ax2.set_title('Velocity')\n",
    "ax3.set_title('Acceleration')\n",
    "\n",
    "def init():\n",
    "    line1.set_data([],[])\n",
    "    line2.set_data([],[])\n",
    "    line3.set_data([],[])\n",
    "    return line1, line2, line3,\n",
    "\n",
    "def animate(i):\n",
    "    line1.set_data(zwire, sol.y[:arr_dim, i])\n",
    "    line2.set_data(zwire, sol.y[arr_dim:, i])\n",
    "    line3.set_data(zwire, accell(i, sol))\n",
    "    title.set_text('Time = {:.2f} ms'.format(1000*sol.t[i]))\n",
    "    return line1, line2, line3,\n",
    "\n",
    "anim = animation.FuncAnimation(fig1, animate, init_func=init, frames=len(sol.t), interval=5, blit=True)\n",
    "fig1.tight_layout()\n",
    "fig1.set_figwidth(10)\n",
    "writervideo = animation.FFMpegWriter(fps=60)\n",
    "# filename = eg.enterbox(\"Enter animation filename\", default=\"x axes anim\")\n",
    "filename= \"x axes anim\"\n",
    "anim.save(\"{}.mp4\".format(filename), writervideo)"
   ]
  },
  {
   "cell_type": "code",
   "execution_count": null,
   "metadata": {},
   "outputs": [],
   "source": [
    "# x axes wave \n",
    "v_x = v_0 * zwire * np.sin(theta) * np.cos(theta)"
   ]
  },
  {
   "cell_type": "code",
   "execution_count": null,
   "metadata": {},
   "outputs": [],
   "source": [
    "# y axes wave\n",
    "v_y = v_0 * b"
   ]
  }
 ],
 "metadata": {
  "kernelspec": {
   "display_name": ".venv",
   "language": "python",
   "name": "python3"
  },
  "language_info": {
   "codemirror_mode": {
    "name": "ipython",
    "version": 3
   },
   "file_extension": ".py",
   "mimetype": "text/x-python",
   "name": "python",
   "nbconvert_exporter": "python",
   "pygments_lexer": "ipython3",
   "version": "3.11.5"
  },
  "orig_nbformat": 4
 },
 "nbformat": 4,
 "nbformat_minor": 2
}
