{
 "cells": [
  {
   "cell_type": "code",
   "execution_count": null,
   "metadata": {},
   "outputs": [],
   "source": [
    "# Imports\n",
    "import numpy as np\n",
    "from scipy.integrate import solve_ivp\n",
    "from scipy import sparse\n",
    "import matplotlib.pyplot as plt\n",
    "from matplotlib import animation"
   ]
  },
  {
   "cell_type": "code",
   "execution_count": null,
   "metadata": {},
   "outputs": [],
   "source": [
    "# Define initial conditions of detector\n",
    "l = 2 # length of wire, meters\n",
    "mass = 1 # total mass of wire\n",
    "tensile_str = 1 # Tensile Strength of wire\n",
    "dia = 1 # diameter of wire\n",
    "cs_area = np.pi * dia**2 / 4 # cross sectional area of wire\n",
    "\n",
    "mu = mass / l # # linear mass density\n",
    "tension = tensile_str * cs_area # Tension on wire\n",
    "young_mod = 1 # elastic modulus of wire\n",
    "v_press = np.sqrt(young_mod / mu) # wavespeed for longitudinal wave\n",
    "v_shear = np.sqrt(tension / mu) # wavespeed for transverse waves\n",
    "\n",
    "# Impact conditions of particle and track\n",
    "G = 1 # gravitational constant\n",
    "M = 1 # mass of inciting particle\n",
    "v_p = 1 # velocity of inciting particle\n",
    "\n",
    "dz = .001 # mm step size for wire?\n",
    "z0 = 1 # position of particle track and wire 'intersection', meters\n",
    "b = .05 # shortest distance between wire and particle track, meters\n",
    "theta = 0 # Angle between particle track and z (wire) axes, radians\n",
    "phi = 0 # Angle between particle track and x axes, radians\n",
    "zwire = np.arange(0 - z0, l - z0, dz) # define wire along z axes s.t. z0 is at z_string == 0\n",
    "v_0 = 2 * G * M / (v_p * (b**2 + (zwire * np.sin(theta))**2)) # shared component of initial velocities\n",
    "\n",
    "# Set up time erray for ivp solution\n",
    "dt = .000001 # mus step size for time?\n",
    "t0 = 0.0\n",
    "tf = 0.01    # 10 ms total time\n",
    "t_eval = np.arange(t0, tf, dt)\n"
   ]
  },
  {
   "cell_type": "code",
   "execution_count": null,
   "metadata": {},
   "outputs": [],
   "source": [
    "# Define needed functions\n",
    "arr_dim = zwire.size\n",
    "laplacian = sparse.diags([1, -2, 1], [-1, 0, 1], shape= (arr_dim, arr_dim)) / dz**2\n",
    "\n",
    "def couple_fun(t, u):\n",
    "    \"\"\"\" \n",
    "    Function that returns first derivative in time => \n",
    "        u is coupled position and velocity =>\n",
    "            First arr_dim points return velocity: second N points of u\n",
    "            Second arr_dim points return accelleration: v_p^2 * Laplacian.[first N points of u]\n",
    "    \"\"\"\n",
    "    u[0] = 0 # fixed ends\n",
    "    u[arr_dim - 1] = 0 #fixed ends\n",
    "    du = np.zeros(2 * arr_dim) \n",
    "    # velocity is second half of coupled array (u)\n",
    "    du[:arr_dim] = u[arr_dim:] \n",
    "    du[0] = 0 # fixed ends\n",
    "    du[arr_dim - 1] = 0 # fixed ends\n",
    "    # acceleration is wave eq on first half of coupled array (u)\n",
    "    du[arr_dim:] = v_p**2 * laplacian.dot(u[:arr_dim]) \n",
    "    du[arr_dim] = 0 # fixed ends\n",
    "    du[-1] = 0 # fixed end\n",
    "    return du\n",
    "\n",
    "def accell_mix(t, sol):\n",
    "    \"\"\"\n",
    "    Take solve_ivp coupled solution and a given time and return acceleration using \n",
    "        finite difference favouring symmetric difference (first and last frame use\n",
    "        increasing and decreasing difference respectively)\n",
    "    \"\"\"\n",
    "    d = 2\n",
    "    if t == 0:\n",
    "        less_dt = sol.y[arr_dim:, t]\n",
    "        d = 1\n",
    "    else:\n",
    "        less_dt = sol.y[arr_dim:, t - 1]\n",
    "    if t == len(sol.t) - 1:\n",
    "        more_dt = sol.y[arr_dim:, t]\n",
    "        d = 1\n",
    "    else:\n",
    "        more_dt = sol.y[arr_dim:, t + 1]  \n",
    "    return (more_dt - less_dt) / (d * dt)"
   ]
  },
  {
   "cell_type": "code",
   "execution_count": null,
   "metadata": {},
   "outputs": [],
   "source": [
    "# z axes wave \n",
    "v_z = - v_0 * zwire * np.sin(theta)**2 "
   ]
  },
  {
   "cell_type": "code",
   "execution_count": null,
   "metadata": {},
   "outputs": [],
   "source": [
    "# x axes wave \n",
    "v_x = v_0 * zwire * np.sin(theta) * np.cos(theta)"
   ]
  },
  {
   "cell_type": "code",
   "execution_count": null,
   "metadata": {},
   "outputs": [],
   "source": [
    "# y axes wave\n",
    "v_y = v_0 * b"
   ]
  }
 ],
 "metadata": {
  "kernelspec": {
   "display_name": ".venv",
   "language": "python",
   "name": "python3"
  },
  "language_info": {
   "name": "python",
   "version": "3.11.5"
  },
  "orig_nbformat": 4
 },
 "nbformat": 4,
 "nbformat_minor": 2
}
