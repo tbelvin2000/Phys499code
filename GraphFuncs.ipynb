{
 "cells": [
  {
   "cell_type": "code",
   "execution_count": 13,
   "metadata": {},
   "outputs": [],
   "source": [
    "import numpy as np\n",
    "from scipy.integrate import solve_ivp\n",
    "from scipy import sparse\n",
    "import matplotlib.pyplot as plt\n",
    "from matplotlib import animation\n",
    "\n",
    "# Set up simulation params. \n",
    "\"\"\"Time step size and total time is primary source of runtime for rendering animation\"\"\"\n",
    "dt = 1e-6 # time step size, seconds\n",
    "t0 = 0.0\n",
    "tf = 6e-3 # total time evolution, seconds\n",
    "t_eval = np.arange(t0, tf, dt)\n",
    "\n",
    "\n",
    "# Wire properties\n",
    "\"\"\" \n",
    "Wire property source:\n",
    "https://www.tribology-abc.com/calculators/properties_of_common_spring_materials.pdf <-- ASTM A228\n",
    "https://optimumspring.com/technical_resources/materials/carbon_steels/music_wire_228_spring_wire.aspx <-- For mass density \n",
    "\"\"\"\n",
    "l = 2 # length of wire, meters\n",
    "dz = 100e-6 # wire step size, meters\n",
    "rho = 7850 # mass density, kg/m^3\n",
    "tensile_str = 2751e6 # Tensile Strength of wire, Pa\n",
    "young_mod = 207e9 # elastic modulus of wire, Pa\n",
    "dia = 4e-3 # diameter of wire, meters\n",
    "cs_area = np.pi * dia**2 / 4 # cross sectional area of wire, m^2\n",
    "mu = rho * cs_area # linear mass density, kg/m\n",
    "tension = 0.1 * tensile_str * cs_area # Tension on wire, N\n",
    "v_press = np.sqrt(young_mod / rho) # wavespeed for longitudinal wave, m/s\n",
    "v_shear = np.sqrt(tension / mu) # wavespeed for transverse waves, m/s\n",
    "\n",
    "#Particle Properties\n",
    "relativistic = [3e8, 1.782e-24] # c [m/s], 1 TeV/c^2 [kg]\n",
    "thermal_neut = [1919.62, 1.674e-27] # [m/s], [kg] --> T = 298 K, mv^2 = (3/2) k_b T\n",
    "gal_orbit = [220e3, 1.782e-24] # [m/s], 1 TeV/c^2 [kg]\n",
    "parts = [relativistic, thermal_neut, gal_orbit]\n",
    "titles = [\"Custom\", \"Relativistic DM\", \"Thermal Neutron\", \"Galactic Orbit DM\"]\n",
    "G = 6.67430e-11 # gravitational constant\n",
    "M = np.array([p[1] for p in parts]) # mass of inciting particle, meters/second\n",
    "v_p = np.array([p[0] for p in parts]) # velocity of inciting particle, meters / second\n",
    "\n",
    "#Impact Properties\n",
    "z0 = l / 4 # position of particle track and wire 'intersection', meters\n",
    "bs = np.array([0.01, .05, 0.1]) # shortest distance between wire and particle track, meters\n",
    "theta = 45 * (np.pi / 180) # Angle between particle track and z (wire) axes, radians\n",
    "phi = 90 * (np.pi / 180) # Angle between particle track and x axes, radians\n",
    "\n",
    "zwire = np.arange(0 - z0, l - z0, dz) # define wire along z axes s.t. z0 is at z_string == 0\n",
    "costheta = np.cos(theta)\n",
    "sintheta = np.sin(theta)\n",
    "cosphi = np.cos(phi)\n",
    "sinphi = np.sin(phi)\n",
    "small = G * (M / v_p)"
   ]
  },
  {
   "cell_type": "code",
   "execution_count": 14,
   "metadata": {},
   "outputs": [],
   "source": [
    "def theory (t_eval, z_t, b):\n",
    "    small = G * M / v_p\n",
    "    def denom(v, direction):\n",
    "        return (b**2 + (z_t + direction * v * t_eval)**2 * sintheta**2)\n",
    "\n",
    "    xnum1 = costheta * sintheta * sinphi\n",
    "    def xnum2(direction):\n",
    "        return (2 * (z_t + direction * v_shear * t_eval) * sintheta**2 * (b * cosphi + (z_t + direction * v_shear * t_eval) * costheta * sintheta * sinphi))\n",
    "    ax_left = v_shear * (xnum1 / denom(v_shear, 1) - xnum2(1) / denom(v_shear, 1)**2) # left moving wave\n",
    "    ax_right = v_shear * (- xnum1 / denom(v_shear, -1) + xnum2(-1) / denom(v_shear, -1)**2) # right moving wave\n",
    "    ax_theory = ax_right + ax_left\n",
    "\n",
    "    ynum1 = costheta * sintheta * cosphi\n",
    "    def ynum2(direction):\n",
    "        return (2 * (z_t + direction * v_shear * t_eval) * sintheta**2 * (b * sinphi - (z_t + direction * v_shear * t_eval) * costheta * sintheta * cosphi))\n",
    "    ay_left = v_shear * (- ynum1 / denom(v_shear, 1) - ynum2(1) / denom(v_shear, 1)**2)\n",
    "    ay_right = v_shear * (ynum1 / denom(v_shear, -1) + ynum2(-1) / denom(v_shear, -1)**2)\n",
    "    ay_theory = ay_right + ay_left\n",
    "\n",
    "    znum1 = sintheta**2\n",
    "    def znum2(v, direction):\n",
    "        return (-2 * (z_t + direction * v * t_eval)**2 * sintheta**4)\n",
    "    az_left = v_press * (-znum1 / denom(v_press, 1) - znum2(v_press, 1) / denom(v_press, 1)**2)\n",
    "    az_right = v_press * (znum1 / denom(v_press, -1) + znum2(v_press, -1) / denom(v_press, -1)**2)\n",
    "    az_theory = az_right + az_left    \n",
    "\n",
    "    return ax_theory, ay_theory, az_theory"
   ]
  },
  {
   "cell_type": "code",
   "execution_count": 15,
   "metadata": {},
   "outputs": [],
   "source": [
    "# Define needed functions\n",
    "arr_dim = zwire.size\n",
    "z_t = arr_dim * 3//8\n",
    "t_range = range(len(t_eval))\n"
   ]
  },
  {
   "cell_type": "code",
   "execution_count": 16,
   "metadata": {},
   "outputs": [
    {
     "name": "stderr",
     "output_type": "stream",
     "text": [
      "C:\\Users\\Thomas\\AppData\\Local\\Temp\\ipykernel_21428\\3867090369.py:8: RuntimeWarning: invalid value encountered in scalar divide\n",
      "  ax1.plot(t_eval, x_theory[i] / x_theory[i].max(), label=f'b = {bs[i]}', alpha=0.7)\n"
     ]
    },
    {
     "ename": "ValueError",
     "evalue": "x and y must have same first dimension, but have shapes (6000,) and (1,)",
     "output_type": "error",
     "traceback": [
      "\u001b[1;31m---------------------------------------------------------------------------\u001b[0m",
      "\u001b[1;31mValueError\u001b[0m                                Traceback (most recent call last)",
      "\u001b[1;32mc:\\Users\\Thomas\\Documents\\Fall 2023\\PHYS 499\\Code\\GraphFuncs.ipynb Cell 4\u001b[0m line \u001b[0;36m8\n\u001b[0;32m      <a href='vscode-notebook-cell:/c%3A/Users/Thomas/Documents/Fall%202023/PHYS%20499/Code/GraphFuncs.ipynb#W2sZmlsZQ%3D%3D?line=5'>6</a>\u001b[0m x_theory, y_theory, z_theory \u001b[39m=\u001b[39m theory(t_eval, zwire[z_t], bs[i])\n\u001b[0;32m      <a href='vscode-notebook-cell:/c%3A/Users/Thomas/Documents/Fall%202023/PHYS%20499/Code/GraphFuncs.ipynb#W2sZmlsZQ%3D%3D?line=6'>7</a>\u001b[0m \u001b[39m# Plot accerlations\u001b[39;00m\n\u001b[1;32m----> <a href='vscode-notebook-cell:/c%3A/Users/Thomas/Documents/Fall%202023/PHYS%20499/Code/GraphFuncs.ipynb#W2sZmlsZQ%3D%3D?line=7'>8</a>\u001b[0m ax1\u001b[39m.\u001b[39;49mplot(t_eval, x_theory[i] \u001b[39m/\u001b[39;49m x_theory[i]\u001b[39m.\u001b[39;49mmax(), label\u001b[39m=\u001b[39;49m\u001b[39mf\u001b[39;49m\u001b[39m'\u001b[39;49m\u001b[39mb = \u001b[39;49m\u001b[39m{\u001b[39;49;00mbs[i]\u001b[39m}\u001b[39;49;00m\u001b[39m'\u001b[39;49m, alpha\u001b[39m=\u001b[39;49m\u001b[39m0.7\u001b[39;49m)\n\u001b[0;32m      <a href='vscode-notebook-cell:/c%3A/Users/Thomas/Documents/Fall%202023/PHYS%20499/Code/GraphFuncs.ipynb#W2sZmlsZQ%3D%3D?line=8'>9</a>\u001b[0m ax2\u001b[39m.\u001b[39mplot(t_eval, y_theory[i] \u001b[39m/\u001b[39m y_theory[i]\u001b[39m.\u001b[39mmax(), label\u001b[39m=\u001b[39m\u001b[39mf\u001b[39m\u001b[39m'\u001b[39m\u001b[39mb = \u001b[39m\u001b[39m{\u001b[39;00mbs[i]\u001b[39m}\u001b[39;00m\u001b[39m'\u001b[39m, alpha\u001b[39m=\u001b[39m\u001b[39m0.7\u001b[39m)\n\u001b[0;32m     <a href='vscode-notebook-cell:/c%3A/Users/Thomas/Documents/Fall%202023/PHYS%20499/Code/GraphFuncs.ipynb#W2sZmlsZQ%3D%3D?line=9'>10</a>\u001b[0m ax3\u001b[39m.\u001b[39mplot(t_eval[t_eval \u001b[39m<\u001b[39m z_t_max], z_theory[t_eval \u001b[39m<\u001b[39m z_t_max], label\u001b[39m=\u001b[39m\u001b[39mf\u001b[39m\u001b[39m'\u001b[39m\u001b[39mb = \u001b[39m\u001b[39m{\u001b[39;00mbs[i]\u001b[39m}\u001b[39;00m\u001b[39m'\u001b[39m, alpha\u001b[39m=\u001b[39m\u001b[39m0.7\u001b[39m)\n",
      "File \u001b[1;32mc:\\Users\\Thomas\\Documents\\Fall 2023\\PHYS 499\\Code\\.venv\\Lib\\site-packages\\matplotlib\\axes\\_axes.py:1688\u001b[0m, in \u001b[0;36mAxes.plot\u001b[1;34m(self, scalex, scaley, data, *args, **kwargs)\u001b[0m\n\u001b[0;32m   1445\u001b[0m \u001b[39m\u001b[39m\u001b[39m\"\"\"\u001b[39;00m\n\u001b[0;32m   1446\u001b[0m \u001b[39mPlot y versus x as lines and/or markers.\u001b[39;00m\n\u001b[0;32m   1447\u001b[0m \n\u001b[1;32m   (...)\u001b[0m\n\u001b[0;32m   1685\u001b[0m \u001b[39m(``'green'``) or hex strings (``'#008000'``).\u001b[39;00m\n\u001b[0;32m   1686\u001b[0m \u001b[39m\"\"\"\u001b[39;00m\n\u001b[0;32m   1687\u001b[0m kwargs \u001b[39m=\u001b[39m cbook\u001b[39m.\u001b[39mnormalize_kwargs(kwargs, mlines\u001b[39m.\u001b[39mLine2D)\n\u001b[1;32m-> 1688\u001b[0m lines \u001b[39m=\u001b[39m [\u001b[39m*\u001b[39m\u001b[39mself\u001b[39m\u001b[39m.\u001b[39m_get_lines(\u001b[39m*\u001b[39margs, data\u001b[39m=\u001b[39mdata, \u001b[39m*\u001b[39m\u001b[39m*\u001b[39mkwargs)]\n\u001b[0;32m   1689\u001b[0m \u001b[39mfor\u001b[39;00m line \u001b[39min\u001b[39;00m lines:\n\u001b[0;32m   1690\u001b[0m     \u001b[39mself\u001b[39m\u001b[39m.\u001b[39madd_line(line)\n",
      "File \u001b[1;32mc:\\Users\\Thomas\\Documents\\Fall 2023\\PHYS 499\\Code\\.venv\\Lib\\site-packages\\matplotlib\\axes\\_base.py:311\u001b[0m, in \u001b[0;36m_process_plot_var_args.__call__\u001b[1;34m(self, data, *args, **kwargs)\u001b[0m\n\u001b[0;32m    309\u001b[0m     this \u001b[39m+\u001b[39m\u001b[39m=\u001b[39m args[\u001b[39m0\u001b[39m],\n\u001b[0;32m    310\u001b[0m     args \u001b[39m=\u001b[39m args[\u001b[39m1\u001b[39m:]\n\u001b[1;32m--> 311\u001b[0m \u001b[39myield from\u001b[39;00m \u001b[39mself\u001b[39;49m\u001b[39m.\u001b[39;49m_plot_args(\n\u001b[0;32m    312\u001b[0m     this, kwargs, ambiguous_fmt_datakey\u001b[39m=\u001b[39;49mambiguous_fmt_datakey)\n",
      "File \u001b[1;32mc:\\Users\\Thomas\\Documents\\Fall 2023\\PHYS 499\\Code\\.venv\\Lib\\site-packages\\matplotlib\\axes\\_base.py:504\u001b[0m, in \u001b[0;36m_process_plot_var_args._plot_args\u001b[1;34m(self, tup, kwargs, return_kwargs, ambiguous_fmt_datakey)\u001b[0m\n\u001b[0;32m    501\u001b[0m     \u001b[39mself\u001b[39m\u001b[39m.\u001b[39maxes\u001b[39m.\u001b[39myaxis\u001b[39m.\u001b[39mupdate_units(y)\n\u001b[0;32m    503\u001b[0m \u001b[39mif\u001b[39;00m x\u001b[39m.\u001b[39mshape[\u001b[39m0\u001b[39m] \u001b[39m!=\u001b[39m y\u001b[39m.\u001b[39mshape[\u001b[39m0\u001b[39m]:\n\u001b[1;32m--> 504\u001b[0m     \u001b[39mraise\u001b[39;00m \u001b[39mValueError\u001b[39;00m(\u001b[39mf\u001b[39m\u001b[39m\"\u001b[39m\u001b[39mx and y must have same first dimension, but \u001b[39m\u001b[39m\"\u001b[39m\n\u001b[0;32m    505\u001b[0m                      \u001b[39mf\u001b[39m\u001b[39m\"\u001b[39m\u001b[39mhave shapes \u001b[39m\u001b[39m{\u001b[39;00mx\u001b[39m.\u001b[39mshape\u001b[39m}\u001b[39;00m\u001b[39m and \u001b[39m\u001b[39m{\u001b[39;00my\u001b[39m.\u001b[39mshape\u001b[39m}\u001b[39;00m\u001b[39m\"\u001b[39m)\n\u001b[0;32m    506\u001b[0m \u001b[39mif\u001b[39;00m x\u001b[39m.\u001b[39mndim \u001b[39m>\u001b[39m \u001b[39m2\u001b[39m \u001b[39mor\u001b[39;00m y\u001b[39m.\u001b[39mndim \u001b[39m>\u001b[39m \u001b[39m2\u001b[39m:\n\u001b[0;32m    507\u001b[0m     \u001b[39mraise\u001b[39;00m \u001b[39mValueError\u001b[39;00m(\u001b[39mf\u001b[39m\u001b[39m\"\u001b[39m\u001b[39mx and y can be no greater than 2D, but have \u001b[39m\u001b[39m\"\u001b[39m\n\u001b[0;32m    508\u001b[0m                      \u001b[39mf\u001b[39m\u001b[39m\"\u001b[39m\u001b[39mshapes \u001b[39m\u001b[39m{\u001b[39;00mx\u001b[39m.\u001b[39mshape\u001b[39m}\u001b[39;00m\u001b[39m and \u001b[39m\u001b[39m{\u001b[39;00my\u001b[39m.\u001b[39mshape\u001b[39m}\u001b[39;00m\u001b[39m\"\u001b[39m)\n",
      "\u001b[1;31mValueError\u001b[0m: x and y must have same first dimension, but have shapes (6000,) and (1,)"
     ]
    },
    {
     "data": {
      "image/png": "[encoded data removed]",
      "text/plain": [
       "<Figure size 640x480 with 3 Axes>"
      ]
     },
     "metadata": {},
     "output_type": "display_data"
    }
   ],
   "source": [
    "fig1, (ax1, ax2, ax3) = plt.subplots(3,1)\n",
    "ax1.set_xlabel('Time [s]')\n",
    "\n",
    "z_t_max = 2e-4\n",
    "for i in range(3):\n",
    "    x_theory, y_theory, z_theory = theory(t_eval, zwire[z_t], bs[i])\n",
    "    # Plot accerlations\n",
    "    ax1.plot(t_eval, x_theory / x_theory.max(), label=f'b = {bs[i]}', alpha=0.7)\n",
    "    ax2.plot(t_eval, y_theory / y_theory.max(), label=f'b = {bs[i]}', alpha=0.7)\n",
    "    ax3.plot(t_eval[t_eval < z_t_max], z_theory[t_eval < z_t_max] / z_theory[t_eval < z_t_max].max(), label=f'b = {bs[i]}', alpha=0.7)\n",
    "    # Graph aesthetics\n",
    "    # ax1.set_ylim(-1, 1)\n",
    "    ax1.set_xlim(t0, tf)\n",
    "    ax1.set_title('x acceleration')\n",
    "    ax1.set_ylabel('x_acc / x_acc.max()')\n",
    "\n",
    "    # ax2.set_ylim(-1, 1)\n",
    "    ax2.set_xlim(t0, tf)\n",
    "    ax2.set_title('y acceleration')\n",
    "    ax2.set_ylabel('y_acc / y_acc.max()')\n",
    "\n",
    "    # ax3.set_ylim(-z_max, z_max)\n",
    "    ax3.set_xlim(t0, z_t_max)\n",
    "    ax3.set_title('z acceleration')\n",
    "    ax3.set_ylabel('z_acc / z_acc.max()')\n",
    "\n",
    "fig1.suptitle(f'Accelerations on wire at {zwire[z_t]:.1e} from z_0 over {tf:.1e} seconds')\n",
    "fig1.tight_layout()\n",
    "fig1.set_figwidth(10)\n",
    "fig1.set_figheight(8)"
   ]
  }
 ],
 "metadata": {
  "kernelspec": {
   "display_name": ".venv",
   "language": "python",
   "name": "python3"
  },
  "language_info": {
   "codemirror_mode": {
    "name": "ipython",
    "version": 3
   },
   "file_extension": ".py",
   "mimetype": "text/x-python",
   "name": "python",
   "nbconvert_exporter": "python",
   "pygments_lexer": "ipython3",
   "version": "3.11.5"
  }
 },
 "nbformat": 4,
 "nbformat_minor": 2
}
